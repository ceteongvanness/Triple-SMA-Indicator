{
  "cells": [
    {
      "cell_type": "markdown",
      "metadata": {
        "id": "vizYMGBb2d2v"
      },
      "source": [
        "# CELL 1: Install Required Packages\n",
        "\n",
        "Triple SMA Trading Strategy with QuantStats for Google Colab\n",
        "============================================================\n",
        "\n",
        "This notebook implements the Triple SMA (20/50/200) trading strategy\n",
        "with comprehensive performance analytics using QuantStats.\n",
        "\n",
        "Run each cell sequentially for best results."
      ]
    },
    {
      "cell_type": "code",
      "execution_count": null,
      "metadata": {
        "colab": {
          "base_uri": "https://localhost:8080/"
        },
        "id": "lYVqKBgZ1xZh",
        "outputId": "741a71a0-7e50-4983-f660-d3c30bd0f956"
      },
      "outputs": [
        {
          "output_type": "stream",
          "name": "stdout",
          "text": [
            "📦 Installing required packages...\n",
            "Requirement already satisfied: pip in /usr/local/lib/python3.11/dist-packages (25.1.1)\n",
            "✅ All packages installed successfully!\n"
          ]
        }
      ],
      "source": [
        "# Install required packages\n",
        "print(\"📦 Installing required packages...\")\n",
        "\n",
        "# Core packages\n",
        "!pip install pandas>=1.3.0 numpy>=1.21.0 matplotlib>=3.4.0\n",
        "\n",
        "# IBKR API\n",
        "!pip install --upgrade pip\n",
        "!pip install ibapi>=9.81.1\n",
        "\n",
        "# Performance analytics\n",
        "!pip install quantstats>=0.0.59\n",
        "\n",
        "# Optional packages\n",
        "!pip install yfinance>=0.1.87\n",
        "\n",
        "print(\"✅ All packages installed successfully!\")"
      ]
    },
    {
      "cell_type": "markdown",
      "metadata": {
        "id": "hF4g094a2lvz"
      },
      "source": [
        "# CELL 2: Import Libraries and Setup"
      ]
    },
    {
      "cell_type": "code",
      "execution_count": null,
      "metadata": {
        "colab": {
          "base_uri": "https://localhost:8080/"
        },
        "id": "ng6iadpT2wvY",
        "outputId": "08319906-5bb2-4e97-d64a-d543ef140fcd"
      },
      "outputs": [
        {
          "output_type": "stream",
          "name": "stdout",
          "text": [
            "✅ All required packages imported successfully!\n",
            "🎨 Matplotlib styling configured\n",
            "📊 QuantStats integration enabled\n"
          ]
        }
      ],
      "source": [
        "# Verify installation and import libraries\n",
        "try:\n",
        "    import datetime\n",
        "    import time\n",
        "    import pandas as pd\n",
        "    import numpy as np\n",
        "    import matplotlib.pyplot as plt\n",
        "    import matplotlib.dates as mdates\n",
        "    from ibapi.client import EClient\n",
        "    from ibapi.wrapper import EWrapper\n",
        "    from ibapi.contract import Contract\n",
        "    from ibapi.order import Order\n",
        "    import threading\n",
        "    import functools\n",
        "    import quantstats as qs\n",
        "\n",
        "    print(\"✅ All required packages imported successfully!\")\n",
        "\n",
        "except ImportError as e:\n",
        "    print(f\"❌ Package import failed: {e}\")\n",
        "    print(\"Please run the installation cell above and try again.\")\n",
        "\n",
        "# Enable QuantStats Jupyter integration\n",
        "qs.extend_pandas()\n",
        "\n",
        "# Set matplotlib style for better visualizations\n",
        "plt.style.use('default')  # Changed from seaborn for better Colab compatibility\n",
        "plt.rcParams['figure.figsize'] = (14, 7)\n",
        "plt.rcParams['axes.grid'] = True\n",
        "plt.rcParams['grid.alpha'] = 0.3\n",
        "\n",
        "print(\"🎨 Matplotlib styling configured\")\n",
        "print(\"📊 QuantStats integration enabled\")"
      ]
    },
    {
      "cell_type": "markdown",
      "metadata": {
        "id": "NvNNGngQ3EBK"
      },
      "source": [
        "# CELL 3: IBKR API Wrapper Class"
      ]
    },
    {
      "cell_type": "code",
      "execution_count": null,
      "metadata": {
        "colab": {
          "base_uri": "https://localhost:8080/"
        },
        "id": "21hfyTWb2_Ud",
        "outputId": "72a505d0-b5d5-4320-ffbc-295b24b09ad5"
      },
      "outputs": [
        {
          "output_type": "stream",
          "name": "stdout",
          "text": [
            "✅ IBKR API wrapper class defined\n"
          ]
        }
      ],
      "source": [
        "class IBapi(EWrapper, EClient):\n",
        "    def __init__(self):\n",
        "        EClient.__init__(self, self)\n",
        "        self.data = []  # Initialize variable to store candle data\n",
        "        self.positions = {}  # Dictionary to store current positions\n",
        "        self.data_received = False\n",
        "\n",
        "    def historicalData(self, reqId, bar):\n",
        "        # Called when historical data is received\n",
        "        self.data.append([bar.date, bar.open, bar.high, bar.low, bar.close, bar.volume])\n",
        "\n",
        "    def historicalDataEnd(self, reqId, start, end):\n",
        "        # Called when all historical data has been received\n",
        "        print(f\"📈 Historical data received from {start} to {end}\")\n",
        "        self.data_received = True\n",
        "\n",
        "    def position(self, account, contract, position, avgCost):\n",
        "        # Called when position information is received\n",
        "        super().position(account, contract, position, avgCost)\n",
        "        key = contract.symbol\n",
        "        self.positions[key] = position\n",
        "        print(f\"💼 Current position for {key}: {position} shares at avg cost of {avgCost}\")\n",
        "\n",
        "    def nextValidId(self, orderId):\n",
        "        # Called when connection is established and next valid order ID is received\n",
        "        super().nextValidId(orderId)\n",
        "        self.nextOrderId = orderId\n",
        "        print(f\"🔗 Connected to TWS. Next valid order ID: {orderId}\")\n",
        "\n",
        "    def error(self, reqId, errorCode, errorString):\n",
        "        # Called when an error occurs\n",
        "        if errorCode != 2104 and errorCode != 2106:  # Ignore common info messages\n",
        "            print(f\"⚠️ Error {errorCode}: {errorString}\")\n",
        "\n",
        "    def orderStatus(self, orderId, status, filled, remaining, avgFillPrice,\n",
        "                   permId, parentId, lastFillPrice, clientId, whyHeld, mktCapPrice):\n",
        "        # Called when order status changes\n",
        "        print(f\"📋 Order {orderId} status: {status}, filled: {filled}, remaining: {remaining}, price: {avgFillPrice}\")\n",
        "\n",
        "print(\"✅ IBKR API wrapper class defined\")"
      ]
    },
    {
      "cell_type": "markdown",
      "metadata": {
        "id": "Obhop49d3U-P"
      },
      "source": [
        "# CELL 4: Utility Functions"
      ]
    },
    {
      "cell_type": "code",
      "execution_count": null,
      "metadata": {
        "colab": {
          "base_uri": "https://localhost:8080/"
        },
        "id": "He8LTowD4PKn",
        "outputId": "c39234f5-e165-431b-be5c-1cfd7cfba553"
      },
      "outputs": [
        {
          "output_type": "stream",
          "name": "stdout",
          "text": [
            "🔧 Utility functions defined\n"
          ]
        }
      ],
      "source": [
        "def create_contract(symbol, secType='STK', exchange='SMART', currency='USD'):\n",
        "    \"\"\"Create a contract object for a specific security\"\"\"\n",
        "    contract = Contract()\n",
        "    contract.symbol = symbol\n",
        "    contract.secType = secType\n",
        "    contract.exchange = exchange\n",
        "    contract.currency = currency\n",
        "    return contract\n",
        "\n",
        "def create_order(action, quantity, order_type='MKT'):\n",
        "    \"\"\"Create an order object\"\"\"\n",
        "    order = Order()\n",
        "    order.action = action\n",
        "    order.totalQuantity = quantity\n",
        "    order.orderType = order_type\n",
        "    return order\n",
        "\n",
        "print(\"🔧 Utility functions defined\")"
      ]
    },
    {
      "cell_type": "markdown",
      "metadata": {
        "id": "Y-wQhQRtpcEX"
      },
      "source": [
        "# CELL 5: Triple SMA Strategy Calculation (Optimized)"
      ]
    },
    {
      "cell_type": "code",
      "execution_count": null,
      "metadata": {
        "colab": {
          "base_uri": "https://localhost:8080/"
        },
        "id": "ds9LlqPYpbN9",
        "outputId": "2a83132f-b548-4b41-b02d-9e580f2cd196"
      },
      "outputs": [
        {
          "output_type": "stream",
          "name": "stdout",
          "text": [
            "🧮 Triple SMA calculation function defined (optimized)\n"
          ]
        }
      ],
      "source": [
        "@functools.lru_cache(maxsize=32)\n",
        "def calculate_triple_sma_optimized(data_tuple, sma20_period=20, sma50_period=50, sma200_period=200):\n",
        "    \"\"\"\n",
        "    Calculate Triple SMA and generate signals based on the strategy using optimized pandas\n",
        "\n",
        "    Note: data_tuple is a tuple representation of the data for caching purposes\n",
        "    \"\"\"\n",
        "    # Convert tuple back to list for processing\n",
        "    data = list(data_tuple)\n",
        "\n",
        "    # Pre-allocate DataFrame with known size for better performance\n",
        "    df = pd.DataFrame(data, columns=['date', 'open', 'high', 'low', 'close', 'volume'])\n",
        "\n",
        "    # Convert date strings to datetime objects if needed\n",
        "    if isinstance(df['date'].iloc[0], str):\n",
        "        df['date'] = pd.to_datetime(df['date'], format='%Y%m%d %H:%M:%S')\n",
        "\n",
        "    # Set date as index for QuantStats compatibility\n",
        "    df = df.set_index('date')\n",
        "\n",
        "    # Calculate SMAs using pandas rolling - vectorized operation\n",
        "    df['sma20'] = df['close'].rolling(window=sma20_period).mean()\n",
        "    df['sma50'] = df['close'].rolling(window=sma50_period).mean()\n",
        "    df['sma200'] = df['close'].rolling(window=sma200_period).mean()\n",
        "\n",
        "    # Generate signals using vectorized operations instead of loops\n",
        "    # Create boolean masks for conditions\n",
        "    uptrend = (df['close'] > df['sma20']) & (df['sma20'] > df['sma50']) & (df['sma50'] > df['sma200'])\n",
        "    downtrend = (df['close'] < df['sma20']) & (df['sma20'] < df['sma50']) & (df['sma50'] < df['sma200'])\n",
        "\n",
        "    # Initialize signal column with zeros\n",
        "    df['signal'] = 0\n",
        "\n",
        "    # Apply conditions using vectorized operations\n",
        "    df.loc[uptrend, 'signal'] = 1\n",
        "    df.loc[downtrend, 'signal'] = -1\n",
        "\n",
        "    # Calculate position changes using diff (vectorized)\n",
        "    df['position'] = df['signal'].diff()\n",
        "\n",
        "    # Calculate returns for QuantStats\n",
        "    df['returns'] = df['close'].pct_change()\n",
        "\n",
        "    # Calculate strategy returns (position at previous day's close * today's return)\n",
        "    df['strategy_returns'] = df['signal'].shift(1) * df['returns']\n",
        "\n",
        "    # Fill NaN values with zeros\n",
        "    df['strategy_returns'] = df['strategy_returns'].fillna(0)\n",
        "\n",
        "    return df\n",
        "\n",
        "print(\"🧮 Triple SMA calculation function defined (optimized)\")"
      ]
    },
    {
      "cell_type": "markdown",
      "metadata": {
        "id": "4iywmaTF4nDj"
      },
      "source": [
        "# CELL 6: Visualization Functions"
      ]
    },
    {
      "cell_type": "code",
      "execution_count": null,
      "metadata": {
        "colab": {
          "base_uri": "https://localhost:8080/"
        },
        "id": "AlBjmnGT5DSl",
        "outputId": "da601797-9de5-4f08-bcff-9fc93f7369ca"
      },
      "outputs": [
        {
          "output_type": "stream",
          "name": "stdout",
          "text": [
            "📈 Visualization functions defined\n"
          ]
        }
      ],
      "source": [
        "def visualize_triple_sma_strategy_optimized(df, symbol):\n",
        "    \"\"\"\n",
        "    Visualize the Triple SMA strategy results with optimized matplotlib\n",
        "    \"\"\"\n",
        "    # Create a copy of df with date as a column for plotting\n",
        "    plot_df = df.reset_index()\n",
        "\n",
        "    # Create figure with specific size for better quality\n",
        "    fig, ax = plt.subplots(figsize=(15, 8), dpi=100)\n",
        "\n",
        "    # Format dates for better display\n",
        "    ax.xaxis.set_major_formatter(mdates.DateFormatter('%Y-%m'))\n",
        "    ax.xaxis.set_major_locator(mdates.MonthLocator(interval=3))\n",
        "    plt.xticks(rotation=45)\n",
        "\n",
        "    # Plot price and SMAs with optimized Line2D objects for large datasets\n",
        "    ax.plot(plot_df['date'], plot_df['close'], label='Close Price', alpha=0.8, linewidth=1.5, color='black')\n",
        "    ax.plot(plot_df['date'], plot_df['sma20'], label='SMA 20', color='#3177e0', linewidth=2)\n",
        "    ax.plot(plot_df['date'], plot_df['sma50'], label='SMA 50', color='#ff9800', linewidth=2)\n",
        "    ax.plot(plot_df['date'], plot_df['sma200'], label='SMA 200', color='#f44336', linewidth=2)\n",
        "\n",
        "    # Plot buy/sell signals\n",
        "    buy_signals = plot_df[plot_df['position'] > 0]\n",
        "    sell_signals = plot_df[plot_df['position'] < 0]\n",
        "\n",
        "    # Use scatter for signals\n",
        "    if not buy_signals.empty:\n",
        "        ax.scatter(buy_signals['date'], buy_signals['close'], marker='^', color='green', s=100, label='Buy Signal', zorder=5)\n",
        "    if not sell_signals.empty:\n",
        "        ax.scatter(sell_signals['date'], sell_signals['close'], marker='v', color='red', s=100, label='Sell Signal', zorder=5)\n",
        "\n",
        "    # Add grid and labels with improved styling\n",
        "    ax.set_title(f'📊 Triple SMA Strategy for {symbol}', fontsize=16, fontweight='bold', pad=20)\n",
        "    ax.set_xlabel('Date', fontsize=12)\n",
        "    ax.set_ylabel('Price ($)', fontsize=12)\n",
        "    ax.grid(True, alpha=0.3)\n",
        "    ax.legend(loc='upper left', frameon=True, fancybox=True, shadow=True)\n",
        "\n",
        "    # Adjust layout to prevent cut-off labels\n",
        "    plt.tight_layout()\n",
        "\n",
        "    # Show plot\n",
        "    plt.show()\n",
        "\n",
        "    return fig\n",
        "\n",
        "print(\"📈 Visualization functions defined\")"
      ]
    },
    {
      "cell_type": "markdown",
      "metadata": {
        "id": "14DF3gGup9C-"
      },
      "source": [
        " # CELL 7: QuantStats Analytics Functions"
      ]
    },
    {
      "cell_type": "code",
      "execution_count": null,
      "metadata": {
        "colab": {
          "base_uri": "https://localhost:8080/"
        },
        "id": "gfiLfS_9qCyi",
        "outputId": "10be4098-7173-49a8-b57c-afd5f62fd524"
      },
      "outputs": [
        {
          "output_type": "stream",
          "name": "stdout",
          "text": [
            "📊 QuantStats analytics functions defined\n"
          ]
        }
      ],
      "source": [
        "def generate_quantstats_reports(df, symbol, benchmark_ticker='SPY'):\n",
        "    \"\"\"\n",
        "    Generate comprehensive performance reports using QuantStats\n",
        "    \"\"\"\n",
        "    print(\"\\n🔍 === Generating QuantStats Reports ===\")\n",
        "\n",
        "    # Extract strategy returns for QuantStats\n",
        "    strategy_returns = df['strategy_returns'].dropna()\n",
        "\n",
        "    if strategy_returns.empty or strategy_returns.sum() == 0:\n",
        "        print(\"⚠️ No strategy returns to analyze. Strategy may not have generated any trades.\")\n",
        "        return strategy_returns\n",
        "\n",
        "    try:\n",
        "        # Basic metrics\n",
        "        print(\"\\n📊 Basic Performance Metrics:\")\n",
        "        print(f\"📈 CAGR: {qs.stats.cagr(strategy_returns):.2%}\")\n",
        "        print(f\"⚡ Sharpe Ratio: {qs.stats.sharpe(strategy_returns):.2f}\")\n",
        "        print(f\"📉 Max Drawdown: {qs.stats.max_drawdown(strategy_returns):.2%}\")\n",
        "        print(f\"🎯 Win Rate: {qs.stats.win_rate(strategy_returns):.2%}\")\n",
        "        print(f\"📊 Volatility (Ann.): {qs.stats.volatility(strategy_returns, annualize=True):.2%}\")\n",
        "\n",
        "        # Plot returns\n",
        "        print(\"\\n📊 Plotting Cumulative Returns...\")\n",
        "        try:\n",
        "            qs.plots.returns(strategy_returns, benchmark=None, figsize=(12, 6))\n",
        "            plt.title(f'Cumulative Returns - {symbol}')\n",
        "            plt.show()\n",
        "        except Exception as e:\n",
        "            print(f\"⚠️ Could not plot returns comparison: {e}\")\n",
        "\n",
        "        # Plot drawdowns\n",
        "        print(\"\\n📉 Plotting Drawdowns...\")\n",
        "        qs.plots.drawdown(strategy_returns, figsize=(12, 4))\n",
        "        plt.title(f'Drawdowns - {symbol}')\n",
        "        plt.show()\n",
        "\n",
        "        # Plot monthly returns heatmap\n",
        "        print(\"\\n🔥 Plotting Monthly Returns Heatmap...\")\n",
        "        try:\n",
        "            qs.plots.monthly_heatmap(strategy_returns, figsize=(10, 6))\n",
        "            plt.title(f'Monthly Returns Heatmap - {symbol}')\n",
        "            plt.show()\n",
        "        except Exception as e:\n",
        "            print(f\"⚠️ Could not plot monthly heatmap: {e}\")\n",
        "\n",
        "        # Generate metrics table\n",
        "        print(\"\\n📋 Detailed Metrics:\")\n",
        "        metrics = qs.reports.metrics(strategy_returns, mode='basic', display=False)\n",
        "        print(metrics)\n",
        "\n",
        "    except Exception as e:\n",
        "        print(f\"❌ Error generating QuantStats reports: {e}\")\n",
        "        print(\"📊 Generating basic statistics instead...\")\n",
        "\n",
        "        print(f\"Total Return: {(strategy_returns + 1).prod() - 1:.2%}\")\n",
        "        print(f\"Mean Daily Return: {strategy_returns.mean():.4%}\")\n",
        "        print(f\"Std Daily Return: {strategy_returns.std():.4%}\")\n",
        "\n",
        "    return strategy_returns\n",
        "\n",
        "print(\"📊 QuantStats analytics functions defined\")"
      ]
    },
    {
      "cell_type": "markdown",
      "metadata": {
        "id": "sCZSOQKKqHEv"
      },
      "source": [
        "# CELL 8: Sample Data Generation Function"
      ]
    },
    {
      "cell_type": "code",
      "execution_count": null,
      "metadata": {
        "colab": {
          "base_uri": "https://localhost:8080/"
        },
        "id": "G91KpH6pqVxR",
        "outputId": "cdc75c7a-a7af-4a6c-ab7e-0d47270eed90"
      },
      "outputs": [
        {
          "output_type": "stream",
          "name": "stdout",
          "text": [
            "🎲 Sample data generation function defined\n"
          ]
        }
      ],
      "source": [
        "def run_with_sample_data(symbol=\"KO\", benchmark_ticker=None):\n",
        "    \"\"\"Run the strategy with sample data and generate QuantStats reports\"\"\"\n",
        "    print(\"\\n🎲 Using sample data for demonstration...\")\n",
        "\n",
        "    # Generate sample data\n",
        "    import numpy as np\n",
        "\n",
        "    # Create dates\n",
        "    start_date = pd.Timestamp('2022-01-01')\n",
        "    dates = [start_date + pd.Timedelta(days=i) for i in range(500)]\n",
        "\n",
        "    # Generate price data with some trend and noise\n",
        "    np.random.seed(42)  # For reproducibility\n",
        "    price = 100\n",
        "    prices = [price]\n",
        "    for _ in range(499):\n",
        "        change = np.random.normal(0.0005, 0.02)  # Small positive drift with volatility\n",
        "        price = price * (1 + change)\n",
        "        prices.append(max(price, 10))  # Prevent negative prices\n",
        "\n",
        "    # Create sample data in the format expected by the strategy\n",
        "    sample_data = []\n",
        "    for i, date in enumerate(dates):\n",
        "        high = prices[i] * np.random.uniform(1.0, 1.02)\n",
        "        low = prices[i] * np.random.uniform(0.98, 1.0)\n",
        "        open_price = prices[i] * np.random.uniform(0.99, 1.01)\n",
        "\n",
        "        sample_data.append([\n",
        "            date.strftime('%Y%m%d %H:%M:%S'),\n",
        "            open_price,    # Open\n",
        "            high,          # High\n",
        "            low,           # Low\n",
        "            prices[i],     # Close\n",
        "            int(np.random.normal(1000000, 200000))  # Volume\n",
        "        ])\n",
        "\n",
        "    # Convert to tuple for caching\n",
        "    sample_data_tuple = tuple(map(tuple, sample_data))\n",
        "\n",
        "    # Calculate Triple SMA and generate signals\n",
        "    df = calculate_triple_sma_optimized(sample_data_tuple)\n",
        "\n",
        "    # Visualize the strategy\n",
        "    visualize_triple_sma_strategy_optimized(df, symbol)\n",
        "\n",
        "    # Generate QuantStats reports\n",
        "    generate_quantstats_reports(df, symbol, benchmark_ticker)\n",
        "\n",
        "    return df\n",
        "\n",
        "print(\"🎲 Sample data generation function defined\")"
      ]
    },
    {
      "cell_type": "markdown",
      "metadata": {
        "id": "nBkYDrZCqXh-"
      },
      "source": [
        "# CELL 9: IBKR Connection and Strategy Testing Functions"
      ]
    },
    {
      "cell_type": "code",
      "execution_count": null,
      "metadata": {
        "colab": {
          "base_uri": "https://localhost:8080/"
        },
        "id": "siC16EHFqarr",
        "outputId": "0e4612e5-e447-44dc-a482-4d373fe3e595"
      },
      "outputs": [
        {
          "output_type": "stream",
          "name": "stdout",
          "text": [
            "🔗 IBKR connection and trading functions defined\n"
          ]
        }
      ],
      "source": [
        "def test_triple_sma_strategy(host='127.0.0.1', port=7497, clientId=1, symbol='KO', benchmark_ticker='SPY'):\n",
        "    \"\"\"Test the Triple SMA strategy for a specific symbol using optimized pandas and QuantStats\"\"\"\n",
        "    print(f\"\\n🔌 Attempting to connect to TWS at {host}:{port}\")\n",
        "\n",
        "    # Connect to TWS\n",
        "    app = IBapi()\n",
        "    app.connect(host, port, 0)  # 7497 for TWS Paper Trading\n",
        "\n",
        "    # Start the socket in a separate thread\n",
        "    api_thread = threading.Thread(target=app.run, daemon=True)\n",
        "    api_thread.start()\n",
        "\n",
        "    # Wait for connection to establish\n",
        "    time.sleep(3)\n",
        "\n",
        "    if not app.isConnected():\n",
        "        print(\"❌ Failed to connect to TWS. Please check:\")\n",
        "        print(\"   • TWS/IB Gateway is running\")\n",
        "        print(\"   • API connections are enabled\")\n",
        "        print(\"   • Host and port are correct\")\n",
        "        print(\"   • ngrok tunnel is active (if using)\")\n",
        "        return None\n",
        "\n",
        "    # Create contract for the symbol\n",
        "    contract = create_contract(symbol)\n",
        "\n",
        "    # Request historical data\n",
        "    app.data = []  # Reset data\n",
        "    app.data_received = False\n",
        "\n",
        "    print(f\"📡 Requesting 2 years of daily data for {symbol}...\")\n",
        "\n",
        "    # Request 2 years of daily data to have enough for SMA 200\n",
        "    app.reqHistoricalData(\n",
        "        reqId=1,\n",
        "        contract=contract,\n",
        "        endDateTime='',  # Empty string means \"now\"\n",
        "        durationStr='2 Y',  # Duration of data (2 years)\n",
        "        barSizeSetting='1 day',  # Bar size (1 day)\n",
        "        whatToShow='MIDPOINT',  # Type of data\n",
        "        useRTH=1,  # Regular Trading Hours only\n",
        "        formatDate=1,  # Date format (1 = yyyyMMdd HH:mm:ss)\n",
        "        keepUpToDate=False,  # Don't keep updating\n",
        "        chartOptions=[]  # No chart options\n",
        "    )\n",
        "\n",
        "    # Wait for data to be received\n",
        "    timeout = 20  # seconds\n",
        "    start_time = time.time()\n",
        "    while not app.data_received and time.time() - start_time < timeout:\n",
        "        time.sleep(0.5)\n",
        "\n",
        "    # Disconnect\n",
        "    app.disconnect()\n",
        "\n",
        "    # Process data and apply strategy\n",
        "    if len(app.data) > 0:\n",
        "        print(f\"✅ Received {len(app.data)} bars of historical data for {symbol}\")\n",
        "\n",
        "        # Start timing for performance measurement\n",
        "        start_time = time.time()\n",
        "\n",
        "        # Convert data to tuple for caching\n",
        "        data_tuple = tuple(map(tuple, app.data))\n",
        "\n",
        "        # Calculate Triple SMA and generate signals using optimized pandas\n",
        "        df = calculate_triple_sma_optimized(data_tuple)\n",
        "\n",
        "        # End timing\n",
        "        execution_time = time.time() - start_time\n",
        "        print(f\"⚡ Strategy calculation took {execution_time:.4f} seconds\")\n",
        "\n",
        "        # Visualize the strategy\n",
        "        visualize_triple_sma_strategy_optimized(df, symbol)\n",
        "\n",
        "        # Calculate performance metrics\n",
        "        if len(df[df['position'] != 0]) > 0:\n",
        "            # Count buy and sell signals\n",
        "            buy_signals = len(df[df['position'] > 0])\n",
        "            sell_signals = len(df[df['position'] < 0])\n",
        "\n",
        "            print(f\"\\n📊 Strategy Performance Summary for {symbol}:\")\n",
        "            print(f\"🟢 Total Buy Signals: {buy_signals}\")\n",
        "            print(f\"🔴 Total Sell Signals: {sell_signals}\")\n",
        "\n",
        "            # Current signal\n",
        "            current_signal = df['signal'].iloc[-1]\n",
        "            if current_signal == 1:\n",
        "                print(f\"🚀 Current Signal: BUY/HOLD (Strong Uptrend)\")\n",
        "            elif current_signal == -1:\n",
        "                print(f\"🔻 Current Signal: SELL/SHORT (Strong Downtrend)\")\n",
        "            else:\n",
        "                print(f\"➡️ Current Signal: NEUTRAL (No Clear Trend)\")\n",
        "\n",
        "            # Current SMA values\n",
        "            print(f\"\\n📈 Current SMA Values:\")\n",
        "            print(f\"   SMA 20: ${df['sma20'].iloc[-1]:.2f}\")\n",
        "            print(f\"   SMA 50: ${df['sma50'].iloc[-1]:.2f}\")\n",
        "            print(f\"   SMA 200: ${df['sma200'].iloc[-1]:.2f}\")\n",
        "            print(f\"   Current Price: ${df['close'].iloc[-1]:.2f}\")\n",
        "\n",
        "            # Generate QuantStats reports\n",
        "            generate_quantstats_reports(df, symbol, benchmark_ticker)\n",
        "\n",
        "        else:\n",
        "            print(\"⚠️ No trading signals generated for the given data.\")\n",
        "\n",
        "        return df\n",
        "    else:\n",
        "        print(f\"❌ No data received for {symbol}\")\n",
        "        return None\n",
        "\n",
        "def execute_trade(host, port, symbol, action, quantity):\n",
        "    \"\"\"Execute a trade for a specific symbol\"\"\"\n",
        "    print(f\"\\n🔌 Connecting to TWS for trade execution...\")\n",
        "\n",
        "    # Connect to TWS\n",
        "    app = IBapi()\n",
        "    app.connect(host, port, 0)  # Connect to TWS\n",
        "\n",
        "    # Start the socket in a separate thread\n",
        "    api_thread = threading.Thread(target=app.run, daemon=True)\n",
        "    api_thread.start()\n",
        "\n",
        "    # Wait for connection to establish\n",
        "    time.sleep(3)\n",
        "\n",
        "    if not app.isConnected():\n",
        "        print(\"❌ Failed to connect to TWS for trade execution.\")\n",
        "        return False\n",
        "\n",
        "    # Create contract for the symbol\n",
        "    contract = create_contract(symbol)\n",
        "\n",
        "    # Create order\n",
        "    order = create_order(action, quantity)\n",
        "\n",
        "    # Place order\n",
        "    app.placeOrder(app.nextOrderId, contract, order)\n",
        "    print(f\"📋 Placed {action} order for {quantity} shares of {symbol}\")\n",
        "\n",
        "    # Wait for order to be processed\n",
        "    time.sleep(5)\n",
        "\n",
        "    # Disconnect\n",
        "    app.disconnect()\n",
        "\n",
        "    return True\n",
        "\n",
        "print(\"🔗 IBKR connection and trading functions defined\")"
      ]
    },
    {
      "cell_type": "markdown",
      "metadata": {
        "id": "onA9hQJSqi7m"
      },
      "source": [
        "# CELL 10: Main Execution Interface"
      ]
    },
    {
      "cell_type": "code",
      "execution_count": null,
      "metadata": {
        "colab": {
          "base_uri": "https://localhost:8080/"
        },
        "id": "tuPI6X2iqf9y",
        "outputId": "bcb9406b-7793-43c7-c26c-4591cf6eab93"
      },
      "outputs": [
        {
          "output_type": "stream",
          "name": "stdout",
          "text": [
            "🎮 Main execution interface ready!\n",
            "\n",
            "==================================================\n",
            "✅ ALL COMPONENTS LOADED SUCCESSFULLY!\n",
            "==================================================\n",
            "🚀 Ready to run! Execute the next cell to start.\n"
          ]
        }
      ],
      "source": [
        "def run_triple_sma_system():\n",
        "    \"\"\"Main execution function with user interface\"\"\"\n",
        "    print(\"\\n\" + \"=\"*70)\n",
        "    print(\"🚀 TRIPLE SMA TRADING STRATEGY WITH QUANTSTATS\")\n",
        "    print(\"=\"*70)\n",
        "    print(\"📊 This system implements a trading strategy based on 20, 50, and 200-day SMAs\")\n",
        "    print(\"📈 Enhanced with QuantStats performance analytics\")\n",
        "    print(\"\\n📋 Available Options:\")\n",
        "    print(\"1️⃣  Test strategy with IBKR data (requires TWS/Gateway)\")\n",
        "    print(\"2️⃣  Execute trade based on current signal\")\n",
        "    print(\"3️⃣  Demo with sample data (no IBKR connection needed)\")\n",
        "    print(\"4️⃣  View system information\")\n",
        "\n",
        "    choice = input(\"\\n🎯 Enter your choice (1-4): \").strip()\n",
        "\n",
        "    if choice == \"1\":\n",
        "        # Get connection details\n",
        "        use_ngrok = input(\"🌐 Are you using ngrok? (y/n): \").lower().strip() == 'y'\n",
        "\n",
        "        if use_ngrok:\n",
        "            host = input(\"🔗 Enter ngrok host (e.g., 0.tcp.ngrok.io): \").strip()\n",
        "            port = int(input(\"🚪 Enter ngrok port: \").strip())\n",
        "        else:\n",
        "            host = input(\"🔗 Enter TWS host (default: 127.0.0.1): \").strip() or \"127.0.0.1\"\n",
        "            port = int(input(\"🚪 Enter TWS port (default: 7497): \").strip() or \"7497\")\n",
        "\n",
        "        symbol = input(\"📈 Enter symbol (default: AAPL): \").strip().upper() or \"AAPL\"\n",
        "        benchmark = input(\"📊 Enter benchmark (default: SPY): \").strip().upper() or \"SPY\"\n",
        "\n",
        "        print(f\"\\n🧮 Testing Triple SMA strategy for {symbol} vs {benchmark}...\")\n",
        "        result = test_triple_sma_strategy(host, port, symbol, benchmark)\n",
        "\n",
        "        if result is not None:\n",
        "            print(f\"\\n✅ Analysis complete for {symbol}\")\n",
        "        else:\n",
        "            print(f\"\\n❌ Analysis failed for {symbol}\")\n",
        "\n",
        "    elif choice == \"2\":\n",
        "        # Execute trade\n",
        "        use_ngrok = input(\"🌐 Are you using ngrok? (y/n): \").lower().strip() == 'y'\n",
        "\n",
        "        if use_ngrok:\n",
        "            host = input(\"🔗 Enter ngrok host: \").strip()\n",
        "            port = int(input(\"🚪 Enter ngrok port: \").strip())\n",
        "        else:\n",
        "            host = input(\"🔗 Enter TWS host (default: 127.0.0.1): \").strip() or \"127.0.0.1\"\n",
        "            port = int(input(\"🚪 Enter TWS port (default: 7497): \").strip() or \"7497\")\n",
        "\n",
        "        symbol = input(\"📈 Enter symbol (default: AAPL): \").strip().upper() or \"AAPL\"\n",
        "        action = input(\"🎯 Enter action (BUY/SELL): \").strip().upper()\n",
        "\n",
        "        if action not in [\"BUY\", \"SELL\"]:\n",
        "            print(\"❌ Invalid action. Must be BUY or SELL.\")\n",
        "            return\n",
        "\n",
        "        try:\n",
        "            quantity = int(input(\"📊 Enter quantity: \").strip())\n",
        "        except ValueError:\n",
        "            print(\"❌ Invalid quantity. Must be a number.\")\n",
        "            return\n",
        "\n",
        "        print(f\"\\n📋 Executing {action} order for {quantity} shares of {symbol}...\")\n",
        "        success = execute_trade(host, port, symbol, action, quantity)\n",
        "\n",
        "        if success:\n",
        "            print(f\"✅ Order for {symbol} successfully submitted!\")\n",
        "        else:\n",
        "            print(f\"❌ Failed to submit order for {symbol}\")\n",
        "\n",
        "    elif choice == \"3\":\n",
        "        # Sample data demo\n",
        "        symbol_name = input(\"📊 Enter sample name (default: DEMO): \").strip().upper() or \"DEMO\"\n",
        "\n",
        "        print(f\"\\n🎲 Running demo with sample data: {symbol_name}\")\n",
        "        run_with_sample_data(symbol_name)\n",
        "        print(f\"\\n✅ Demo analysis complete!\")\n",
        "\n",
        "    elif choice == \"4\":\n",
        "        # System information\n",
        "        print(\"\\n\" + \"=\"*50)\n",
        "        print(\"ℹ️  SYSTEM INFORMATION\")\n",
        "        print(\"=\"*50)\n",
        "        print(\"📊 Strategy: Triple SMA (20/50/200)\")\n",
        "        print(\"📈 Analytics: QuantStats integration\")\n",
        "        print(\"🔗 API: Interactive Brokers TWS/Gateway\")\n",
        "        print(\"🐍 Platform: Google Colab\")\n",
        "        print(\"📦 Dependencies: pandas, numpy, matplotlib, quantstats, ibapi\")\n",
        "        print(\"\\n📋 Strategy Rules:\")\n",
        "        print(\"  🟢 BUY: Price > SMA20 > SMA50 > SMA200\")\n",
        "        print(\"  🔴 SELL: Price < SMA20 < SMA50 < SMA200\")\n",
        "        print(\"  ➡️ HOLD: Mixed or neutral conditions\")\n",
        "        print(\"\\n💡 Tips:\")\n",
        "        print(\"  • Use paper trading for testing\")\n",
        "        print(\"  • Ensure TWS API is enabled\")\n",
        "        print(\"  • Check data subscriptions for real-time quotes\")\n",
        "\n",
        "    else:\n",
        "        print(\"❌ Invalid choice. Please select 1-4.\")\n",
        "\n",
        "print(\"🎮 Main execution interface ready!\")\n",
        "print(\"\\n\" + \"=\"*50)\n",
        "print(\"✅ ALL COMPONENTS LOADED SUCCESSFULLY!\")\n",
        "print(\"=\"*50)\n",
        "print(\"🚀 Ready to run! Execute the next cell to start.\")"
      ]
    },
    {
      "cell_type": "markdown",
      "source": [
        "# CELL 10.5: Enhanced Connection Functions with ngrok Auto-Detection"
      ],
      "metadata": {
        "id": "VAId-l9U0uWV"
      }
    },
    {
      "cell_type": "code",
      "source": [
        "# Add this as a new cell in your Colab notebook (insert before CELL 11)\n",
        "\n",
        "import subprocess\n",
        "import requests\n",
        "import json\n",
        "\n",
        "def check_ngrok_status():\n",
        "    \"\"\"Check if ngrok is running and get tunnel information\"\"\"\n",
        "    try:\n",
        "        # ngrok exposes a local API on port 4040\n",
        "        response = requests.get('http://localhost:4040/api/tunnels', timeout=5)\n",
        "        if response.status_code == 200:\n",
        "            tunnels = response.json()['tunnels']\n",
        "            tcp_tunnels = [t for t in tunnels if t['proto'] == 'tcp']\n",
        "            if tcp_tunnels:\n",
        "                tunnel = tcp_tunnels[0]  # Get first TCP tunnel\n",
        "                public_url = tunnel['public_url']\n",
        "                host = public_url.split('://')[1].split(':')[0]\n",
        "                port = int(public_url.split(':')[-1])\n",
        "                return True, host, port, tunnel['config']['addr']\n",
        "        return False, None, None, None\n",
        "    except:\n",
        "        return False, None, None, None\n",
        "\n",
        "def setup_connection():\n",
        "    \"\"\"Enhanced connection setup with ngrok auto-detection\"\"\"\n",
        "    print(\"\\n🔍 Checking connection options...\")\n",
        "\n",
        "    # Check if we're in Colab\n",
        "    try:\n",
        "        import google.colab\n",
        "        in_colab = True\n",
        "        print(\"📱 Running in Google Colab\")\n",
        "    except ImportError:\n",
        "        in_colab = False\n",
        "        print(\"💻 Running locally\")\n",
        "\n",
        "    if in_colab:\n",
        "        print(\"\\n⚠️  Google Colab requires tunneling to connect to local TWS\")\n",
        "\n",
        "        # Check if ngrok is running\n",
        "        ngrok_running, host, port, local_addr = check_ngrok_status()\n",
        "\n",
        "        if ngrok_running:\n",
        "            print(f\"✅ ngrok detected!\")\n",
        "            print(f\"🌐 Public URL: {host}:{port}\")\n",
        "            print(f\"🔗 Local target: {local_addr}\")\n",
        "\n",
        "            use_detected = input(f\"🎯 Use detected ngrok tunnel {host}:{port}? (y/n): \").lower().strip()\n",
        "            if use_detected == 'y':\n",
        "                return host, port\n",
        "\n",
        "        print(\"\\n📋 ngrok Setup Instructions:\")\n",
        "        print(\"1. Download ngrok: https://ngrok.com/download\")\n",
        "        print(\"2. Sign up: https://dashboard.ngrok.com/signup\")\n",
        "        print(\"3. Get authtoken: https://dashboard.ngrok.com/get-started/your-authtoken\")\n",
        "        print(\"4. In your local terminal:\")\n",
        "        print(\"   ngrok config add-authtoken YOUR_TOKEN\")\n",
        "        print(\"   ngrok tcp 7497\")\n",
        "        print(\"5. Copy the forwarding URL (like 0.tcp.ngrok.io:12345)\")\n",
        "\n",
        "        print(\"\\n🔧 Manual ngrok entry:\")\n",
        "        host = input(\"🔗 Enter ngrok host (e.g., 0.tcp.ngrok.io): \").strip()\n",
        "        if not host:\n",
        "            print(\"❌ Host cannot be empty for Colab connection\")\n",
        "            return None, None\n",
        "\n",
        "        try:\n",
        "            port = int(input(\"🚪 Enter ngrok port: \").strip())\n",
        "        except ValueError:\n",
        "            print(\"❌ Invalid port number\")\n",
        "            return None, None\n",
        "\n",
        "        return host, port\n",
        "\n",
        "    else:\n",
        "        # Local connection\n",
        "        print(\"✅ Local connection available\")\n",
        "        host = input(\"🔗 Enter TWS host (default: 127.0.0.1): \").strip() or \"127.0.0.1\"\n",
        "        try:\n",
        "            port = int(input(\"🚪 Enter TWS port (default: 7497): \").strip() or \"7497\")\n",
        "        except ValueError:\n",
        "            print(\"❌ Invalid port number\")\n",
        "            return None, None\n",
        "\n",
        "        return host, port\n",
        "\n",
        "def enhanced_connection_test(host, port):\n",
        "    \"\"\"Test connection with better error reporting\"\"\"\n",
        "    print(f\"\\n🔌 Testing connection to {host}:{port}...\")\n",
        "\n",
        "    try:\n",
        "        import socket\n",
        "        sock = socket.socket(socket.AF_INET, socket.SOCK_STREAM)\n",
        "        sock.settimeout(5)\n",
        "        result = sock.connect_ex((host, port))\n",
        "        sock.close()\n",
        "\n",
        "        if result == 0:\n",
        "            print(f\"✅ Connection successful to {host}:{port}\")\n",
        "            return True\n",
        "        else:\n",
        "            print(f\"❌ Cannot connect to {host}:{port}\")\n",
        "            print(\"🔍 Troubleshooting:\")\n",
        "            print(\"   • Ensure TWS/Gateway is running\")\n",
        "            print(\"   • Check API settings are enabled\")\n",
        "            print(\"   • Verify port number (7497 for TWS Paper, 4002 for Gateway Paper)\")\n",
        "            if \"ngrok\" in host:\n",
        "                print(\"   • Verify ngrok tunnel is active\")\n",
        "                print(\"   • Check ngrok authtoken is configured\")\n",
        "            return False\n",
        "    except Exception as e:\n",
        "        print(f\"❌ Connection test failed: {e}\")\n",
        "        return False\n",
        "\n",
        "# Replace the connection logic in your main function with this:\n",
        "def run_triple_sma_system_enhanced():\n",
        "    \"\"\"Enhanced main execution function with better connection handling\"\"\"\n",
        "    print(\"\\n\" + \"=\"*70)\n",
        "    print(\"🚀 TRIPLE SMA TRADING STRATEGY WITH QUANTSTATS\")\n",
        "    print(\"=\"*70)\n",
        "    print(\"📊 This system implements a trading strategy based on 20, 50, and 200-day SMAs\")\n",
        "    print(\"📈 Enhanced with QuantStats performance analytics\")\n",
        "    print(\"\\n📋 Available Options:\")\n",
        "    print(\"1️⃣  Test strategy with IBKR data (requires TWS/Gateway)\")\n",
        "    print(\"2️⃣  Execute trade based on current signal\")\n",
        "    print(\"3️⃣  Demo with sample data (no IBKR connection needed)\")\n",
        "    print(\"4️⃣  View system information\")\n",
        "\n",
        "    choice = input(\"\\n🎯 Enter your choice (1-4): \").strip()\n",
        "\n",
        "    if choice in [\"1\", \"2\"]:\n",
        "        # Connection required\n",
        "        host, port = setup_connection()\n",
        "        if host is None or port is None:\n",
        "            print(\"❌ Connection setup failed\")\n",
        "            return\n",
        "\n",
        "        # Test connection first\n",
        "        if not enhanced_connection_test(host, port):\n",
        "            print(\"❌ Cannot proceed without valid connection\")\n",
        "            return\n",
        "\n",
        "        if choice == \"1\":\n",
        "            # Test strategy\n",
        "            symbol = input(\"📈 Enter symbol (default: AAPL): \").strip().upper() or \"AAPL\"\n",
        "            benchmark = input(\"📊 Enter benchmark (default: SPY): \").strip().upper() or \"SPY\"\n",
        "\n",
        "            print(f\"\\n🧮 Testing Triple SMA strategy for {symbol} vs {benchmark}...\")\n",
        "            result = test_triple_sma_strategy(host, port, symbol, benchmark)\n",
        "\n",
        "            if result is not None:\n",
        "                print(f\"\\n✅ Analysis complete for {symbol}\")\n",
        "            else:\n",
        "                print(f\"\\n❌ Analysis failed for {symbol}\")\n",
        "\n",
        "        elif choice == \"2\":\n",
        "            # Execute trade\n",
        "            symbol = input(\"📈 Enter symbol (default: AAPL): \").strip().upper() or \"AAPL\"\n",
        "            action = input(\"🎯 Enter action (BUY/SELL): \").strip().upper()\n",
        "\n",
        "            if action not in [\"BUY\", \"SELL\"]:\n",
        "                print(\"❌ Invalid action. Must be BUY or SELL.\")\n",
        "                return\n",
        "\n",
        "            try:\n",
        "                quantity = int(input(\"📊 Enter quantity: \").strip())\n",
        "            except ValueError:\n",
        "                print(\"❌ Invalid quantity. Must be a number.\")\n",
        "                return\n",
        "\n",
        "            print(f\"\\n📋 Executing {action} order for {quantity} shares of {symbol}...\")\n",
        "            success = execute_trade(host, port, symbol, action, quantity)\n",
        "\n",
        "            if success:\n",
        "                print(f\"✅ Order for {symbol} successfully submitted!\")\n",
        "            else:\n",
        "                print(f\"❌ Failed to submit order for {symbol}\")\n",
        "\n",
        "    elif choice == \"3\":\n",
        "        # Sample data demo\n",
        "        symbol_name = input(\"📊 Enter sample name (default: DEMO): \").strip().upper() or \"DEMO\"\n",
        "\n",
        "        print(f\"\\n🎲 Running demo with sample data: {symbol_name}\")\n",
        "        run_with_sample_data(symbol_name)\n",
        "        print(f\"\\n✅ Demo analysis complete!\")\n",
        "\n",
        "    elif choice == \"4\":\n",
        "        # System information\n",
        "        print(\"\\n\" + \"=\"*50)\n",
        "        print(\"ℹ️  SYSTEM INFORMATION\")\n",
        "        print(\"=\"*50)\n",
        "        print(\"📊 Strategy: Triple SMA (20/50/200)\")\n",
        "        print(\"📈 Analytics: QuantStats integration\")\n",
        "        print(\"🔗 API: Interactive Brokers TWS/Gateway\")\n",
        "        print(\"🐍 Platform: Google Colab\")\n",
        "        print(\"📦 Dependencies: pandas, numpy, matplotlib, quantstats, ibapi\")\n",
        "        print(\"\\n📋 Strategy Rules:\")\n",
        "        print(\"  🟢 BUY: Price > SMA20 > SMA50 > SMA200\")\n",
        "        print(\"  🔴 SELL: Price < SMA20 < SMA50 < SMA200\")\n",
        "        print(\"  ➡️ HOLD: Mixed or neutral conditions\")\n",
        "        print(\"\\n💡 Tips:\")\n",
        "        print(\"  • Use paper trading for testing\")\n",
        "        print(\"  • Ensure TWS API is enabled\")\n",
        "        print(\"  • Check data subscriptions for real-time quotes\")\n",
        "        print(\"  • For Colab: Set up ngrok tunnel first\")\n",
        "\n",
        "    else:\n",
        "        print(\"❌ Invalid choice. Please select 1-4.\")\n",
        "\n",
        "print(\"🔧 Enhanced connection functions loaded!\")\n",
        "print(\"💡 Use run_triple_sma_system_enhanced() instead of run_triple_sma_system()\")"
      ],
      "metadata": {
        "id": "zugVBG_A00jQ"
      },
      "execution_count": null,
      "outputs": []
    },
    {
      "cell_type": "markdown",
      "metadata": {
        "id": "zwULdVx0qp09"
      },
      "source": [
        "# CELL 11: Execute the Trading System"
      ]
    },
    {
      "cell_type": "code",
      "execution_count": null,
      "metadata": {
        "colab": {
          "base_uri": "https://localhost:8080/"
        },
        "id": "Znl4LLAqq4Da",
        "outputId": "551bd7e1-5940-4315-f350-5e6a67e8bd4f"
      },
      "outputs": [
        {
          "output_type": "stream",
          "name": "stdout",
          "text": [
            "\n",
            "======================================================================\n",
            "🚀 TRIPLE SMA TRADING STRATEGY WITH QUANTSTATS\n",
            "======================================================================\n",
            "📊 This system implements a trading strategy based on 20, 50, and 200-day SMAs\n",
            "📈 Enhanced with QuantStats performance analytics\n",
            "\n",
            "📋 Available Options:\n",
            "1️⃣  Test strategy with IBKR data (requires TWS/Gateway)\n",
            "2️⃣  Execute trade based on current signal\n",
            "3️⃣  Demo with sample data (no IBKR connection needed)\n",
            "4️⃣  View system information\n",
            "\n",
            "🎯 Enter your choice (1-4): 2\n",
            "🌐 Are you using ngrok? (y/n): n\n",
            "🔗 Enter TWS host (default: 127.0.0.1): 127.0.0.1\n",
            "🚪 Enter TWS port (default: 7497): 7497\n",
            "📈 Enter symbol (default: AAPL): KO\n",
            "🎯 Enter action (BUY/SELL): BUY\n",
            "📊 Enter quantity: 1\n",
            "\n",
            "📋 Executing BUY order for 1 shares of KO...\n",
            "\n",
            "🔌 Connecting to TWS for trade execution...\n",
            "⚠️ Error 502: Couldn't connect to TWS. Confirm that \"Enable ActiveX and Socket EClients\" \n",
            "is enabled and connection port is the same as \"Socket Port\" on the \n",
            "TWS \"Edit->Global Configuration...->API->Settings\" menu. Live Trading ports: \n",
            "TWS: 7496; IB Gateway: 4001. Simulated Trading ports for new installations \n",
            "of version 954.1 or newer:  TWS: 7497; IB Gateway: 4002\n",
            "❌ Failed to connect to TWS for trade execution.\n",
            "❌ Failed to submit order for KO\n"
          ]
        }
      ],
      "source": [
        "# Run the enhanced system with better connection handling\n",
        "run_triple_sma_system_enhanced()"
      ]
    }
  ],
  "metadata": {
    "colab": {
      "provenance": []
    },
    "kernelspec": {
      "display_name": "Python 3",
      "name": "python3"
    },
    "language_info": {
      "name": "python"
    }
  },
  "nbformat": 4,
  "nbformat_minor": 0
}